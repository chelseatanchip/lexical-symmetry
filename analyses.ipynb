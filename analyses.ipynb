{
 "cells": [
  {
   "cell_type": "code",
   "execution_count": 21,
   "metadata": {
    "collapsed": true
   },
   "outputs": [],
   "source": [
    "import numpy as np\n",
    "import matplotlib.pyplot as plt\n",
    "import pandas as pd\n",
    "\n",
    "from analyses_helper_functions import *\n",
    "\n",
    "from sklearn.utils import shuffle \n",
    "from sklearn import metrics \n",
    "from sklearn.model_selection import train_test_split \n",
    "from sklearn.metrics import auc  \n",
    "from sklearn.metrics import roc_auc_score\n",
    "from sklearn.metrics import roc_curve  \n",
    "from sklearn.linear_model import LogisticRegression  \n",
    "\n",
    "import nltk\n",
    "import gensim\n",
    "import gensim.downloader as api\n",
    "import gensim.models.keyedvectors as word2vec  "
   ]
  },
  {
   "cell_type": "code",
   "execution_count": 22,
   "metadata": {},
   "outputs": [
    {
     "data": {
      "image/png": "[encoded data removed]",
      "text/plain": [
       "<matplotlib.figure.Figure at 0x26dfae518>"
      ]
     },
     "metadata": {},
     "output_type": "display_data"
    }
   ],
   "source": [
    "# Plotting distribution of sentences\n",
    "df = pd.read_csv('verbcorp.csv', sep=',', encoding='latin-1') \n",
    "df['verb'].value_counts().plot(kind='bar',color=\"green\"); \n",
    "plt.xlabel('Verb')\n",
    "plt.ylabel('Number of sentences')\n",
    "plt.show()\n"
   ]
  },
  {
   "cell_type": "markdown",
   "metadata": {},
   "source": [
    "# Implementing LF model"
   ]
  },
  {
   "cell_type": "code",
   "execution_count": 23,
   "metadata": {},
   "outputs": [
    {
     "name": "stdout",
     "output_type": "stream",
     "text": [
      "Accuracy: 0.791208791209\n",
      "F1 score: 0.822429906542\n",
      "Precision: 0.80487804878\n",
      "Recall: 0.84076433121\n"
     ]
    },
    {
     "name": "stderr",
     "output_type": "stream",
     "text": [
      "/Users/retina/anaconda/lib/python3.5/site-packages/sklearn/metrics/classification.py:1137: UndefinedMetricWarning: Recall is ill-defined and being set to 0.0 due to no true samples.\n",
      "  'recall', 'true', average, warn_for)\n",
      "/Users/retina/anaconda/lib/python3.5/site-packages/sklearn/metrics/classification.py:1137: UndefinedMetricWarning: F-score is ill-defined and being set to 0.0 due to no true samples.\n",
      "  'recall', 'true', average, warn_for)\n"
     ]
    },
    {
     "name": "stdout",
     "output_type": "stream",
     "text": [
      "\n",
      "Accuracy of prototype model: 73.3 %\n",
      "\n",
      "Number of errors: 363\n",
      "\n",
      "Most frequent misclassifications:\n",
      "\n",
      "[('talk', 27), ('resemble', 24), ('marry', 22), ('discuss', 21), ('listen', 21), ('clash', 20), ('chat', 20), ('date', 17), ('converse', 17), ('choke', 17), ('meet', 17), ('negotiate', 14), ('argue', 13), ('kiss', 12), ('hit', 11), ('match', 11), ('alternate', 10), ('hurt', 10), ('follow', 10), ('see', 10), ('bump', 6), ('eat', 6), ('hate', 5), ('combine', 4), ('share', 4), ('drown', 4), ('kill', 3), ('mix', 2), ('save', 2), ('copy', 2), ('push', 1)]\n"
     ]
    },
    {
     "data": {
      "image/png": "[encoded data removed]",
      "text/plain": [
       "<matplotlib.figure.Figure at 0x117070f98>"
      ]
     },
     "metadata": {},
     "output_type": "display_data"
    }
   ],
   "source": [
    "feature_names = list(df.columns) \n",
    "\n",
    "labels = df.category\n",
    "verbs = df.verb\n",
    "sentences = df.sentence\n",
    "\n",
    "del df['verb']\n",
    "del df['sentence']   \n",
    "del df['category'] \n",
    "features=df.values\n",
    "\n",
    "X_train,X_test,y_train,y_test=train_test_split(features,labels,test_size=0.2,random_state=0)\n",
    " \n",
    "# LogReg Model\n",
    "logreg = LogisticRegression()\n",
    "\n",
    "# Fit model, predict data\n",
    "logreg.fit(X_train,y_train) \n",
    "y_pred=logreg.predict(X_test)  \n",
    "\n",
    "# Test statistic(s)\n",
    "print(\"Accuracy:\",metrics.accuracy_score(y_test, y_pred))\n",
    "print(\"F1 score:\",metrics.f1_score(y_test, y_pred))\n",
    "print(\"Precision:\",metrics.precision_score(y_test, y_pred))\n",
    "print(\"Recall:\",metrics.recall_score(y_test, y_pred))\n",
    " \n",
    "# 10-fold cross validation  \n",
    "results=cv(logreg,features,labels)\n",
    "\n",
    "A=[np.mean(results['train_accuracy']),\n",
    "   np.mean(results['test_accuracy']),\n",
    "   np.mean(results['train_f1_score']),\n",
    "   np.mean(results['test_f1_score']),\n",
    "   np.mean(results['train_precision']),\n",
    "   np.mean(results['test_precision']),\n",
    "   np.mean(results['train_recall']),\n",
    "   np.mean(results['test_recall'])]\n",
    "\n",
    "# print(A)\n",
    "\n",
    "# LOOCV\n",
    "s,m = loo_features(sentences,verbs,features,labels)\n",
    " \n",
    "# Plotting feature importance \n",
    "feature_importance = abs(logreg.coef_[0])\n",
    "feature_importance = 100.0 * (feature_importance / feature_importance.max()) #normalize data\n",
    "sorted_idx = np.argsort(feature_importance)\n",
    "pos = np.arange(sorted_idx.shape[0]) + .5 \n",
    "f = plt.figure()\n",
    "ft = f.add_subplot(1, 1, 1)\n",
    "ft.barh(pos, feature_importance[sorted_idx], align='center',color='green')\n",
    "ft.set_yticks(pos)\n",
    "ft.set_yticklabels(np.array(df.columns)[sorted_idx], fontsize=8) \n",
    "ft.set_xlabel('F score')\n",
    "ft.set_ylabel('Feature')\n",
    "#ft.axvline(x=60, color=\"r\",alpha=0.6)\n",
    "\n",
    "plt.tight_layout()   \n",
    "plt.show()"
   ]
  },
  {
   "cell_type": "markdown",
   "metadata": {},
   "source": [
    "# Implementing word2vec model"
   ]
  },
  {
   "cell_type": "code",
   "execution_count": 25,
   "metadata": {},
   "outputs": [
    {
     "name": "stderr",
     "output_type": "stream",
     "text": [
      "/Users/retina/anaconda/lib/python3.5/site-packages/smart_open/smart_open_lib.py:402: UserWarning: This function is deprecated, use smart_open.open instead. See the migration notes for details: https://github.com/RaRe-Technologies/smart_open/blob/master/README.rst#migrating-to-the-new-open-function\n",
      "  'See the migration notes for details: %s' % _MIGRATION_NOTES_URL\n",
      "/Users/retina/anaconda/lib/python3.5/site-packages/sklearn/metrics/classification.py:1137: UndefinedMetricWarning: Recall is ill-defined and being set to 0.0 due to no true samples.\n",
      "  'recall', 'true', average, warn_for)\n",
      "/Users/retina/anaconda/lib/python3.5/site-packages/sklearn/metrics/classification.py:1137: UndefinedMetricWarning: F-score is ill-defined and being set to 0.0 due to no true samples.\n",
      "  'recall', 'true', average, warn_for)\n"
     ]
    },
    {
     "name": "stdout",
     "output_type": "stream",
     "text": [
      "Accuracy: 0.692307692308\n",
      "F1 score: 0.755813953488\n",
      "Precision: 0.872483221477\n",
      "Recall: 0.666666666667\n",
      "\n",
      "Accuracy of prototype model: 67.6 %\n",
      "\n",
      "Number of errors: 441\n",
      "\n",
      "Most frequent misclassifications:\n",
      "\n",
      "[('hit', 36), ('resemble', 23), ('converse', 21), ('eat', 21), ('discuss', 20), ('kiss', 20), ('hurt', 19), ('clash', 16), ('hate', 16), ('hug', 16), ('push', 14), ('date', 14), ('share', 14), ('forgive', 13), ('bump', 13), ('see', 13), ('drown', 12), ('copy', 11), ('chase', 10), ('kill', 9), ('meet', 9), ('love', 9), ('listen', 9), ('negotiate', 8), ('argue', 8), ('differ', 8), ('coexist', 7), ('follow', 7), ('choke', 6), ('rhyme', 6), ('alternate', 5), ('reconcile', 4), ('combine', 4), ('save', 4), ('match', 4), ('mix', 3), ('talk', 3), ('marry', 2), ('tie', 2), ('chat', 2)]\n"
     ]
    }
   ],
   "source": [
    "# Load word2vec vector \n",
    "wv = word2vec.KeyedVectors.load_word2vec_format(\"GoogleNews-vectors-negative300.bin.gz\",\n",
    "    binary=True)\n",
    "wv.init_sims(replace=True)\n",
    "\n",
    "sents=tokenize_text(sentences) \n",
    " \n",
    "#Averaging word2vec embedding for each sentence\n",
    "data_word2vec = word_avg_list(wv,sents,1)\n",
    "\n",
    "# word2vec  \n",
    "word_V = data_word2vec\n",
    "X_W2V_train, X_W2V_test, y_W2V_train, y_W2V_test = train_test_split(word_V,\n",
    "                                                    labels,\n",
    "                                                    test_size=0.2)\n",
    "logreg.fit(X_W2V_train, y_W2V_train)\n",
    " \n",
    "y_W2V_pred = logreg.predict(X_W2V_test)\n",
    "\n",
    "# 10-fold CV\n",
    "results_w=cv(logreg,word_V,labels) \n",
    "\n",
    "B=[np.mean(results_w['train_accuracy']),\n",
    "   np.mean(results_w['test_accuracy']),\n",
    "   np.mean(results_w['train_f1_score']),\n",
    "   np.mean(results_w['test_f1_score']),\n",
    "   np.mean(results_w['train_precision']),\n",
    "   np.mean(results_w['test_precision']),\n",
    "   np.mean(results_w['train_recall']),\n",
    "   np.mean(results_w['test_recall'])]\n",
    "\n",
    "#print(B)\n",
    " \n",
    "# Test statistic(s)\n",
    "print(\"Accuracy:\",metrics.accuracy_score(y_W2V_pred,y_W2V_test))\n",
    "print(\"F1 score:\",metrics.f1_score(y_W2V_pred,y_W2V_test))\n",
    "print(\"Precision:\",metrics.precision_score(y_W2V_pred,y_W2V_test))\n",
    "print(\"Recall:\",metrics.recall_score(y_W2V_pred,y_W2V_test))\n",
    "\n",
    "# LOO cross val \n",
    "s_w,m_w=loo_features(sents,verbs,word_V, labels)"
   ]
  },
  {
   "cell_type": "markdown",
   "metadata": {},
   "source": [
    "# Implementing GloVe model"
   ]
  },
  {
   "cell_type": "code",
   "execution_count": 32,
   "metadata": {},
   "outputs": [
    {
     "name": "stderr",
     "output_type": "stream",
     "text": [
      "/Users/retina/anaconda/lib/python3.5/site-packages/smart_open/smart_open_lib.py:402: UserWarning: This function is deprecated, use smart_open.open instead. See the migration notes for details: https://github.com/RaRe-Technologies/smart_open/blob/master/README.rst#migrating-to-the-new-open-function\n",
      "  'See the migration notes for details: %s' % _MIGRATION_NOTES_URL\n"
     ]
    },
    {
     "name": "stdout",
     "output_type": "stream",
     "text": [
      "Accuracy: 0.69\n",
      "F1 score: 0.75\n",
      "Precision: 0.65\n",
      "Recall: 0.89\n"
     ]
    },
    {
     "name": "stderr",
     "output_type": "stream",
     "text": [
      "/Users/retina/anaconda/lib/python3.5/site-packages/sklearn/metrics/classification.py:1137: UndefinedMetricWarning: Recall is ill-defined and being set to 0.0 due to no true samples.\n",
      "  'recall', 'true', average, warn_for)\n",
      "/Users/retina/anaconda/lib/python3.5/site-packages/sklearn/metrics/classification.py:1137: UndefinedMetricWarning: F-score is ill-defined and being set to 0.0 due to no true samples.\n",
      "  'recall', 'true', average, warn_for)\n"
     ]
    },
    {
     "name": "stdout",
     "output_type": "stream",
     "text": [
      "\n",
      "Accuracy of prototype model: 64 %\n",
      "\n",
      "Number of errors: 490\n",
      "\n",
      "Most frequent misclassifications:\n",
      "\n",
      "[('hit', 29), ('resemble', 24), ('converse', 22), ('eat', 22), ('clash', 19), ('hurt', 19), ('hate', 18), ('meet', 18), ('discuss', 17), ('kiss', 17), ('rhyme', 17), ('see', 17), ('forgive', 16), ('save', 16), ('differ', 13), ('match', 13), ('drown', 13), ('kill', 12), ('coexist', 12), ('copy', 12), ('argue', 11), ('reconcile', 11), ('hug', 11), ('love', 11), ('listen', 11), ('negotiate', 10), ('chase', 10), ('choke', 10), ('talk', 9), ('push', 7), ('combine', 7), ('date', 7), ('bump', 7), ('mix', 5), ('share', 5), ('chat', 5), ('alternate', 4), ('tie', 2), ('follow', 1)]\n"
     ]
    }
   ],
   "source": [
    "glv = api.load(\"glove-wiki-gigaword-100\")  \n",
    "\n",
    "data_glove = word_avg_list(glv,sents,0)\n",
    "\n",
    "X_G_train, X_G_test, y_G_train, y_G_test = train_test_split(data_glove,\n",
    "                                                    labels,\n",
    "                                                    test_size=0.2)\n",
    "logreg.fit(X_G_train, y_G_train)\n",
    " \n",
    "y_G_pred = logreg.predict(X_G_test) \n",
    " \n",
    "print('Accuracy: {:.2f}'.format(metrics.accuracy_score(y_G_test, y_G_pred)))\n",
    "print('F1 score: {:.2f}'.format(metrics.f1_score(y_G_test, y_G_pred)))\n",
    "print('Precision: {:.2f}'.format(metrics.precision_score(y_G_test, y_G_pred)))\n",
    "print('Recall: {:.2f}'.format(metrics.recall_score(y_G_test, y_G_pred)))\n",
    "   \n",
    "# 10-fold CV\n",
    "results_g=cv(logreg,data_glove,labels) \n",
    "\n",
    "C=[np.mean(results_g['train_accuracy']),\n",
    "   np.mean(results_g['test_accuracy']),\n",
    "   np.mean(results_g['train_f1_score']),\n",
    "   np.mean(results_g['test_f1_score']),\n",
    "   np.mean(results_g['train_precision']),\n",
    "   np.mean(results_g['test_precision']),\n",
    "   np.mean(results_g['train_recall']),\n",
    "   np.mean(results_g['test_recall'])]\n",
    "\n",
    "print(C)\n",
    "\n",
    "# LOO cross val \n",
    "s_v,m_v=loo_features(sents,verbs,data_glove, labels)"
   ]
  },
  {
   "cell_type": "markdown",
   "metadata": {},
   "source": [
    "# Misc. exporting and graphing"
   ]
  },
  {
   "cell_type": "code",
   "execution_count": null,
   "metadata": {
    "collapsed": true
   },
   "outputs": [],
   "source": [
    "# Option to export error sentences to CSV (although the CSVs are already available in the repo)\n",
    "#errors_lf=pd.DataFrame({'Sentence':s, 'New (wrong) category':m}) \n",
    "#errors_lf.to_csv (r'LF_errors.csv', index = False, header=True)\n",
    "#errors_w2v=pd.DataFrame({'Sentence':s_w,'New (wrong) category':m_w}) \n",
    "#errors_w2v.to_csv (r'w2v_errors.csv', index = False, header=True)\n",
    "# errors_g=pd.DataFrame({'Sentence':s_v,'New (wrong) category':m_v}) \n",
    "# errors_g.to_csv (r'w2g_errors.csv', index = False, header=True)"
   ]
  },
  {
   "cell_type": "code",
   "execution_count": 962,
   "metadata": {},
   "outputs": [
    {
     "data": {
      "image/png": "[encoded data removed]",
      "text/plain": [
       "<matplotlib.figure.Figure at 0x29f69b780>"
      ]
     },
     "metadata": {},
     "output_type": "display_data"
    }
   ],
   "source": [
    "# Graphing context error proportions\n",
    "# Values calculated manually from dividing the number of contexts misclassified\n",
    "# by the total number of contexts in the dataset\n",
    "raw_data = {'Model': ['LF','word2vec','GloVe'],\n",
    "            'D': [0.27,0.29,0.34], \n",
    "            'ND-SG': [0.30,0.36,0.39],\n",
    "            'ND-PLU': [0.49,0.62,0.47],\n",
    "            'ND-RCP': [0.16,0.27,0.33]}\n",
    "\n",
    "cx = pd.DataFrame(raw_data, columns = ['Model', 'D', 'ND-SG','ND-PLU','ND-RCP'])\n",
    "\n",
    "cx.plot(kind='bar',x=cx['Model'].values,legend=True, width=0.8, figsize=(9,4))\n",
    "plt.xlabel('Model')\n",
    "plt.ylabel('Proportion')\n",
    "plt.xticks(rotation=0)\n",
    "plt.show()"
   ]
  },
  {
   "cell_type": "code",
   "execution_count": 24,
   "metadata": {},
   "outputs": [
    {
     "data": {
      "image/png": "[encoded data removed]",
      "text/plain": [
       "<matplotlib.figure.Figure at 0x22094a6a0>"
      ]
     },
     "metadata": {},
     "output_type": "display_data"
    }
   ],
   "source": [
    "# AUROC graphing \n",
    "# LF\n",
    "y_ROC = logreg.predict_proba(X_test)[::,1]\n",
    "fpr, tpr, _ = metrics.roc_curve(y_test,  y_ROC)\n",
    "auc = metrics.roc_auc_score(y_test, y_ROC) \n",
    "\n",
    "#word2vec\n",
    "fpr_w2v, tpr_w2v, _ = metrics.roc_curve(y_W2V_test,y_W2V_pred)\n",
    "auc_w2v = metrics.roc_auc_score(y_W2V_test,y_W2V_pred)   \n",
    "\n",
    "#GloVe\n",
    "fpr_g, tpr_g, _ = metrics.roc_curve(y_G_test,y_G_pred) \n",
    "auc_g = metrics.roc_auc_score(y_G_test,y_G_pred)  \n",
    "\n",
    "plt.figure(1)\n",
    "plt.plot([0, 1], [0, 1], 'k--')\n",
    "plt.plot(fpr,tpr,color='r',label='LF (AUC = {:.2f})'.format(auc))\n",
    "plt.plot(fpr_w2v,tpr_w2v,color='g',label='word2vec (AUC = {:.2f})'.format(auc_w2v))\n",
    "plt.plot(fpr_g,tpr_g,color='blue',label='GloVe (AUC = {:.2f})'.format(auc_g))\n",
    "#plt.plot(fpr_sq, tpr_sq,color='b', label='Sequential (AUC = {:.2f})'.format(auc_sq)) \n",
    "plt.xlabel('False positive rate')\n",
    "plt.ylabel('True positive rate') \n",
    "plt.legend(loc='best')\n",
    "plt.show()\n"
   ]
  }
 ],
 "metadata": {
  "kernelspec": {
   "display_name": "Python 3",
   "language": "python",
   "name": "python3"
  },
  "language_info": {
   "codemirror_mode": {
    "name": "ipython",
    "version": 3
   },
   "file_extension": ".py",
   "mimetype": "text/x-python",
   "name": "python",
   "nbconvert_exporter": "python",
   "pygments_lexer": "ipython3",
   "version": "3.5.2"
  }
 },
 "nbformat": 4,
 "nbformat_minor": 2
}
